{
  "nbformat": 4,
  "nbformat_minor": 0,
  "metadata": {
    "colab": {
      "name": "NLP_Final.ipynb",
      "provenance": [],
      "toc_visible": true
    },
    "kernelspec": {
      "name": "python3",
      "display_name": "Python 3"
    },
    "accelerator": "GPU"
  },
  "cells": [
    {
      "cell_type": "markdown",
      "metadata": {
        "id": "Fwz5fGre3Mt8",
        "colab_type": "text"
      },
      "source": [
        "# Import Libraries and Set Up Data"
      ]
    },
    {
      "cell_type": "code",
      "metadata": {
        "id": "eMaQs_2J2T8s",
        "colab_type": "code",
        "outputId": "8d213afe-c14e-4834-f989-8362c3570d7e",
        "colab": {
          "base_uri": "https://localhost:8080/",
          "height": 63
        }
      },
      "source": [
        "# import necessary libraries \n",
        "import pandas as pd\n",
        "import tensorflow as tf\n",
        "import os\n",
        "import re\n",
        "import numpy as np\n",
        "from string import punctuation\n",
        "from zipfile import ZipFile\n",
        "from sklearn.model_selection import train_test_split\n",
        "import matplotlib.pyplot as plt"
      ],
      "execution_count": 1,
      "outputs": [
        {
          "output_type": "display_data",
          "data": {
            "text/html": [
              "<p style=\"color: red;\">\n",
              "The default version of TensorFlow in Colab will soon switch to TensorFlow 2.x.<br>\n",
              "We recommend you <a href=\"https://www.tensorflow.org/guide/migrate\" target=\"_blank\">upgrade</a> now \n",
              "or ensure your notebook will continue to use TensorFlow 1.x via the <code>%tensorflow_version 1.x</code> magic:\n",
              "<a href=\"https://colab.research.google.com/notebooks/tensorflow_version.ipynb\" target=\"_blank\">more info</a>.</p>\n"
            ],
            "text/plain": [
              "<IPython.core.display.HTML object>"
            ]
          },
          "metadata": {
            "tags": []
          }
        }
      ]
    },
    {
      "cell_type": "code",
      "metadata": {
        "id": "6wFmJ0cM29Od",
        "colab_type": "code",
        "colab": {}
      },
      "source": [
        "# importing neural network libraries\n",
        "import tensorflow as tf\n",
        "from tensorflow.keras.preprocessing.text import Tokenizer\n",
        "from tensorflow.keras.preprocessing.sequence import pad_sequences\n",
        "from tensorflow.keras.models import Sequential\n",
        "from tensorflow.keras.layers import Dense, Dropout, Embedding, GRU, LSTM, RNN, SpatialDropout1D"
      ],
      "execution_count": 0,
      "outputs": []
    },
    {
      "cell_type": "markdown",
      "metadata": {
        "id": "FWMXm_ex7Flv",
        "colab_type": "text"
      },
      "source": [
        "## Turn Text Files into Pandas"
      ]
    },
    {
      "cell_type": "code",
      "metadata": {
        "id": "9dYNa_ni7Dro",
        "colab_type": "code",
        "colab": {}
      },
      "source": [
        "def text2pandas(text):\n",
        "    \n",
        "    dataList = []\n",
        "    article = [text[0]]\n",
        "    \n",
        "    for line in text[1:]:\n",
        "        if not line.isspace():\n",
        "            line = line.strip('\\n')\n",
        "            if line.startswith(\" = \", 0):\n",
        "                title = article[0].split(' = ')\n",
        "                article[0] = title[1]\n",
        "                article[1:] = [''.join(article[1:])] \n",
        "                dataList.append(article)\n",
        "                article = []    \n",
        "            \n",
        "            elif line.startswith(\" == \", 0):\n",
        "                continue\n",
        "                \n",
        "            article.append(line)\n",
        "         \n",
        "    dataFrame = pd.DataFrame(dataList, columns = ['Title', 'Corpus']) \n",
        "    \n",
        "    return dataFrame"
      ],
      "execution_count": 0,
      "outputs": []
    },
    {
      "cell_type": "code",
      "metadata": {
        "id": "jnKqA_Fj7MFx",
        "colab_type": "code",
        "colab": {}
      },
      "source": [
        "# Import .txt files and convert to pandas DataFrames\n",
        "\n",
        "with open(\"bio.fake.txt\") as f:  \n",
        "    data_fakes = f.readlines() \n",
        "    data_fakesPD = text2pandas(data_fakes)\n",
        "    \n",
        "with open(\"bio.test.txt\") as f: \n",
        "    data_test = f.readlines() \n",
        "    data_testPD = text2pandas(data_test)\n",
        "    \n",
        "with open(\"bio.train.txt\") as f: \n",
        "    data_train = f.readlines() \n",
        "    data_trainPD = text2pandas(data_train)\n",
        "    \n",
        "with open(\"bio.valid.txt\") as f: \n",
        "    data_valid = f.readlines() \n",
        "    data_validPD = text2pandas(data_valid)"
      ],
      "execution_count": 0,
      "outputs": []
    },
    {
      "cell_type": "code",
      "metadata": {
        "id": "PS1ZeYcC7mij",
        "colab_type": "code",
        "colab": {}
      },
      "source": [
        "data_fakesPD['Label'] = 1"
      ],
      "execution_count": 0,
      "outputs": []
    },
    {
      "cell_type": "code",
      "metadata": {
        "id": "nh0P3f44-IYD",
        "colab_type": "code",
        "colab": {}
      },
      "source": [
        "#Assign Labels\n",
        "data_trainPD['Label'] = 0\n",
        "data_validPD['Label'] = 0"
      ],
      "execution_count": 0,
      "outputs": []
    },
    {
      "cell_type": "code",
      "metadata": {
        "id": "kfPwZvlP_DVy",
        "colab_type": "code",
        "colab": {}
      },
      "source": [
        "#Concat reals and fakes\n",
        "training_df = pd.concat([data_trainPD,data_fakesPD])"
      ],
      "execution_count": 0,
      "outputs": []
    },
    {
      "cell_type": "code",
      "metadata": {
        "id": "FOF5Jc-k3HMq",
        "colab_type": "code",
        "colab": {}
      },
      "source": [
        "train_data = training_df.copy()\n",
        "test_data = data_testPD.copy()"
      ],
      "execution_count": 0,
      "outputs": []
    },
    {
      "cell_type": "code",
      "metadata": {
        "id": "q2tfnV0-9Re_",
        "colab_type": "code",
        "outputId": "9d68f294-4ad0-47e0-feb7-f6736196c424",
        "colab": {
          "base_uri": "https://localhost:8080/",
          "height": 221
        }
      },
      "source": [
        "print(train_data.shape)\n",
        "train_data.head()"
      ],
      "execution_count": 30,
      "outputs": [
        {
          "output_type": "stream",
          "text": [
            "(19300, 3)\n"
          ],
          "name": "stdout"
        },
        {
          "output_type": "execute_result",
          "data": {
            "text/html": [
              "<div>\n",
              "<style scoped>\n",
              "    .dataframe tbody tr th:only-of-type {\n",
              "        vertical-align: middle;\n",
              "    }\n",
              "\n",
              "    .dataframe tbody tr th {\n",
              "        vertical-align: top;\n",
              "    }\n",
              "\n",
              "    .dataframe thead th {\n",
              "        text-align: right;\n",
              "    }\n",
              "</style>\n",
              "<table border=\"1\" class=\"dataframe\">\n",
              "  <thead>\n",
              "    <tr style=\"text-align: right;\">\n",
              "      <th></th>\n",
              "      <th>Title</th>\n",
              "      <th>Corpus</th>\n",
              "      <th>Label</th>\n",
              "    </tr>\n",
              "  </thead>\n",
              "  <tbody>\n",
              "    <tr>\n",
              "      <th>0</th>\n",
              "      <td>\\n</td>\n",
              "      <td>Alfonso ( Alphonsus ) Salmerón ( 8 September 1...</td>\n",
              "      <td>0</td>\n",
              "    </tr>\n",
              "    <tr>\n",
              "      <th>1</th>\n",
              "      <td>Cecil Reginald Burch</td>\n",
              "      <td>Cecil Reginald Burch , FRS ( 12 May 1901 – 19 ...</td>\n",
              "      <td>0</td>\n",
              "    </tr>\n",
              "    <tr>\n",
              "      <th>2</th>\n",
              "      <td>Charles Claude Guthrie</td>\n",
              "      <td>Charles Claude Guthrie ( September 26 , 1880 –...</td>\n",
              "      <td>0</td>\n",
              "    </tr>\n",
              "    <tr>\n",
              "      <th>3</th>\n",
              "      <td>Joachim Albertini</td>\n",
              "      <td>Joachim Albertini or Gioacchino Albertini ( 30...</td>\n",
              "      <td>0</td>\n",
              "    </tr>\n",
              "    <tr>\n",
              "      <th>4</th>\n",
              "      <td>Franklin Tanner Pember</td>\n",
              "      <td>Franklin Tanner Pember ( November 2 , 1841 – A...</td>\n",
              "      <td>0</td>\n",
              "    </tr>\n",
              "  </tbody>\n",
              "</table>\n",
              "</div>"
            ],
            "text/plain": [
              "                    Title  ... Label\n",
              "0                      \\n  ...     0\n",
              "1    Cecil Reginald Burch  ...     0\n",
              "2  Charles Claude Guthrie  ...     0\n",
              "3       Joachim Albertini  ...     0\n",
              "4  Franklin Tanner Pember  ...     0\n",
              "\n",
              "[5 rows x 3 columns]"
            ]
          },
          "metadata": {
            "tags": []
          },
          "execution_count": 30
        }
      ]
    },
    {
      "cell_type": "code",
      "metadata": {
        "id": "vqEyJKL19T8J",
        "colab_type": "code",
        "outputId": "7867e960-271b-43f8-bdc5-f066183be4d2",
        "colab": {
          "base_uri": "https://localhost:8080/",
          "height": 221
        }
      },
      "source": [
        "print(test_data.shape)\n",
        "test_data.head()"
      ],
      "execution_count": 31,
      "outputs": [
        {
          "output_type": "stream",
          "text": [
            "(1001, 2)\n"
          ],
          "name": "stdout"
        },
        {
          "output_type": "execute_result",
          "data": {
            "text/html": [
              "<div>\n",
              "<style scoped>\n",
              "    .dataframe tbody tr th:only-of-type {\n",
              "        vertical-align: middle;\n",
              "    }\n",
              "\n",
              "    .dataframe tbody tr th {\n",
              "        vertical-align: top;\n",
              "    }\n",
              "\n",
              "    .dataframe thead th {\n",
              "        text-align: right;\n",
              "    }\n",
              "</style>\n",
              "<table border=\"1\" class=\"dataframe\">\n",
              "  <thead>\n",
              "    <tr style=\"text-align: right;\">\n",
              "      <th></th>\n",
              "      <th>Title</th>\n",
              "      <th>Corpus</th>\n",
              "    </tr>\n",
              "  </thead>\n",
              "  <tbody>\n",
              "    <tr>\n",
              "      <th>0</th>\n",
              "      <td>\\n</td>\n",
              "      <td>Jan Krejčí ( 28 February 1825 Klatovy – 1 Augu...</td>\n",
              "    </tr>\n",
              "    <tr>\n",
              "      <th>1</th>\n",
              "      <td>Albert Ernest Radford</td>\n",
              "      <td>Albert Ernest Radford ( January 25 , 1918 – Ap...</td>\n",
              "    </tr>\n",
              "    <tr>\n",
              "      <th>2</th>\n",
              "      <td>Omar Saidou Tall</td>\n",
              "      <td>al-Hajj Omar Saidou Tall ( Umar ibn Sa'id al-F...</td>\n",
              "    </tr>\n",
              "    <tr>\n",
              "      <th>3</th>\n",
              "      <td>Paul Harteck</td>\n",
              "      <td>Paul Karl Maria Harteck ( 20 July 1902 – 22 Ja...</td>\n",
              "    </tr>\n",
              "    <tr>\n",
              "      <th>4</th>\n",
              "      <td>William John Tulloch</td>\n",
              "      <td>Prof William John Tulloch MD FRSE ( 1887–1966 ...</td>\n",
              "    </tr>\n",
              "  </tbody>\n",
              "</table>\n",
              "</div>"
            ],
            "text/plain": [
              "                   Title                                             Corpus\n",
              "0                     \\n  Jan Krejčí ( 28 February 1825 Klatovy – 1 Augu...\n",
              "1  Albert Ernest Radford  Albert Ernest Radford ( January 25 , 1918 – Ap...\n",
              "2       Omar Saidou Tall  al-Hajj Omar Saidou Tall ( Umar ibn Sa'id al-F...\n",
              "3           Paul Harteck  Paul Karl Maria Harteck ( 20 July 1902 – 22 Ja...\n",
              "4   William John Tulloch  Prof William John Tulloch MD FRSE ( 1887–1966 ..."
            ]
          },
          "metadata": {
            "tags": []
          },
          "execution_count": 31
        }
      ]
    },
    {
      "cell_type": "code",
      "metadata": {
        "id": "Nq-sDEUPALkO",
        "colab_type": "code",
        "colab": {}
      },
      "source": [
        "#Drop first line for now\n",
        "validation_data = data_validPD.drop(data_validPD.index[0])\n",
        "train_data = train_data.drop(train_data.index[0])\n",
        "test_data = test_data.drop(test_data.index[0])"
      ],
      "execution_count": 0,
      "outputs": []
    },
    {
      "cell_type": "code",
      "metadata": {
        "id": "og7148Us9dLL",
        "colab_type": "code",
        "outputId": "ef24c3f1-c632-4f49-baa0-7f0cdacef9e5",
        "colab": {
          "base_uri": "https://localhost:8080/",
          "height": 85
        }
      },
      "source": [
        "# checking for missing values\n",
        "train_data.isnull().sum()"
      ],
      "execution_count": 33,
      "outputs": [
        {
          "output_type": "execute_result",
          "data": {
            "text/plain": [
              "Title     0\n",
              "Corpus    0\n",
              "Label     0\n",
              "dtype: int64"
            ]
          },
          "metadata": {
            "tags": []
          },
          "execution_count": 33
        }
      ]
    },
    {
      "cell_type": "code",
      "metadata": {
        "id": "hdCLpMYX94LW",
        "colab_type": "code",
        "outputId": "21cbe3ca-6d70-4644-ff28-2fa320e0b6e5",
        "colab": {
          "base_uri": "https://localhost:8080/",
          "height": 204
        }
      },
      "source": [
        "#Get the size of each article and add a column for it\n",
        "length = []\n",
        "[length.append(len(str(text))) for text in train_data['Corpus']]\n",
        "train_data['Length'] = length\n",
        "train_data.head()"
      ],
      "execution_count": 34,
      "outputs": [
        {
          "output_type": "execute_result",
          "data": {
            "text/html": [
              "<div>\n",
              "<style scoped>\n",
              "    .dataframe tbody tr th:only-of-type {\n",
              "        vertical-align: middle;\n",
              "    }\n",
              "\n",
              "    .dataframe tbody tr th {\n",
              "        vertical-align: top;\n",
              "    }\n",
              "\n",
              "    .dataframe thead th {\n",
              "        text-align: right;\n",
              "    }\n",
              "</style>\n",
              "<table border=\"1\" class=\"dataframe\">\n",
              "  <thead>\n",
              "    <tr style=\"text-align: right;\">\n",
              "      <th></th>\n",
              "      <th>Title</th>\n",
              "      <th>Corpus</th>\n",
              "      <th>Label</th>\n",
              "      <th>Length</th>\n",
              "    </tr>\n",
              "  </thead>\n",
              "  <tbody>\n",
              "    <tr>\n",
              "      <th>1</th>\n",
              "      <td>Cecil Reginald Burch</td>\n",
              "      <td>Cecil Reginald Burch , FRS ( 12 May 1901 – 19 ...</td>\n",
              "      <td>0</td>\n",
              "      <td>942</td>\n",
              "    </tr>\n",
              "    <tr>\n",
              "      <th>2</th>\n",
              "      <td>Charles Claude Guthrie</td>\n",
              "      <td>Charles Claude Guthrie ( September 26 , 1880 –...</td>\n",
              "      <td>0</td>\n",
              "      <td>1199</td>\n",
              "    </tr>\n",
              "    <tr>\n",
              "      <th>3</th>\n",
              "      <td>Joachim Albertini</td>\n",
              "      <td>Joachim Albertini or Gioacchino Albertini ( 30...</td>\n",
              "      <td>0</td>\n",
              "      <td>1633</td>\n",
              "    </tr>\n",
              "    <tr>\n",
              "      <th>4</th>\n",
              "      <td>Franklin Tanner Pember</td>\n",
              "      <td>Franklin Tanner Pember ( November 2 , 1841 – A...</td>\n",
              "      <td>0</td>\n",
              "      <td>2201</td>\n",
              "    </tr>\n",
              "    <tr>\n",
              "      <th>5</th>\n",
              "      <td>Lothar Wolfgang Nordheim</td>\n",
              "      <td>Lothar Wolfgang Nordheim ( November 7 , 1899 ,...</td>\n",
              "      <td>0</td>\n",
              "      <td>1468</td>\n",
              "    </tr>\n",
              "  </tbody>\n",
              "</table>\n",
              "</div>"
            ],
            "text/plain": [
              "                      Title  ... Length\n",
              "1      Cecil Reginald Burch  ...    942\n",
              "2    Charles Claude Guthrie  ...   1199\n",
              "3         Joachim Albertini  ...   1633\n",
              "4    Franklin Tanner Pember  ...   2201\n",
              "5  Lothar Wolfgang Nordheim  ...   1468\n",
              "\n",
              "[5 rows x 4 columns]"
            ]
          },
          "metadata": {
            "tags": []
          },
          "execution_count": 34
        }
      ]
    },
    {
      "cell_type": "code",
      "metadata": {
        "id": "NzuJZ2Yo-Esn",
        "colab_type": "code",
        "outputId": "415a1637-9f63-453b-a98a-c42c2dde8805",
        "colab": {
          "base_uri": "https://localhost:8080/",
          "height": 34
        }
      },
      "source": [
        "#check for weird cases of text length\n",
        "min(train_data['Length']), max(train_data['Length']), round(sum(train_data['Length'])/len(train_data['Length']))"
      ],
      "execution_count": 35,
      "outputs": [
        {
          "output_type": "execute_result",
          "data": {
            "text/plain": [
              "(0, 141974, 4153)"
            ]
          },
          "metadata": {
            "tags": []
          },
          "execution_count": 35
        }
      ]
    },
    {
      "cell_type": "code",
      "metadata": {
        "id": "Q8SrST6I-SuC",
        "colab_type": "code",
        "outputId": "25013a07-6eae-42a3-e5f9-4265017d56ae",
        "colab": {
          "base_uri": "https://localhost:8080/",
          "height": 34
        }
      },
      "source": [
        "#check how many texts are less than 50 words long, classify them as outliers, and remove them\n",
        "len(train_data[train_data['Length'] < 50])"
      ],
      "execution_count": 36,
      "outputs": [
        {
          "output_type": "execute_result",
          "data": {
            "text/plain": [
              "81"
            ]
          },
          "metadata": {
            "tags": []
          },
          "execution_count": 36
        }
      ]
    },
    {
      "cell_type": "code",
      "metadata": {
        "id": "3Ezj4Bc1-fMb",
        "colab_type": "code",
        "colab": {}
      },
      "source": [
        "# dropping the outliers\n",
        "train_data = train_data.drop(train_data['Corpus'][train_data['Length'] < 50].index, axis = 0)"
      ],
      "execution_count": 0,
      "outputs": []
    },
    {
      "cell_type": "code",
      "metadata": {
        "id": "U0KNs-bR-mL9",
        "colab_type": "code",
        "outputId": "4dec0166-cd48-42bd-89c8-35d87adaa11e",
        "colab": {
          "base_uri": "https://localhost:8080/",
          "height": 34
        }
      },
      "source": [
        "#look at our data dimensions again\n",
        "min(train_data['Length']), max(train_data['Length']), round(sum(train_data['Length'])/len(train_data['Length']))"
      ],
      "execution_count": 38,
      "outputs": [
        {
          "output_type": "execute_result",
          "data": {
            "text/plain": [
              "(52, 141974, 4169)"
            ]
          },
          "metadata": {
            "tags": []
          },
          "execution_count": 38
        }
      ]
    },
    {
      "cell_type": "markdown",
      "metadata": {
        "id": "PkshtvVP8XoX",
        "colab_type": "text"
      },
      "source": [
        "# Create Test Set from train data"
      ]
    },
    {
      "cell_type": "code",
      "metadata": {
        "id": "sqjybBQB9BLn",
        "colab_type": "code",
        "colab": {}
      },
      "source": [
        "train_data2 = train_data.copy()"
      ],
      "execution_count": 0,
      "outputs": []
    },
    {
      "cell_type": "code",
      "metadata": {
        "id": "W-hlMU3n9fDF",
        "colab_type": "code",
        "colab": {
          "base_uri": "https://localhost:8080/",
          "height": 34
        },
        "outputId": "b505b51a-6d8c-4f9a-ad7b-818282c577c7"
      },
      "source": [
        "train_data2.shape"
      ],
      "execution_count": 46,
      "outputs": [
        {
          "output_type": "execute_result",
          "data": {
            "text/plain": [
              "(19199, 4)"
            ]
          },
          "metadata": {
            "tags": []
          },
          "execution_count": 46
        }
      ]
    },
    {
      "cell_type": "code",
      "metadata": {
        "id": "MFCo7gqx8cv2",
        "colab_type": "code",
        "colab": {}
      },
      "source": [
        "#shuffle dataframe\n",
        "train_data2 = train_data2.sample(frac=1)"
      ],
      "execution_count": 0,
      "outputs": []
    },
    {
      "cell_type": "code",
      "metadata": {
        "id": "T_Rpx_VB80hd",
        "colab_type": "code",
        "colab": {}
      },
      "source": [
        "train_data = train_data2[0:15359]\n",
        "test_data = train_data2[15359:]"
      ],
      "execution_count": 0,
      "outputs": []
    },
    {
      "cell_type": "markdown",
      "metadata": {
        "id": "9IRU6U5U_AVl",
        "colab_type": "text"
      },
      "source": [
        "# Text Pre-Processing"
      ]
    },
    {
      "cell_type": "code",
      "metadata": {
        "id": "j01PvGKu_DM4",
        "colab_type": "code",
        "colab": {}
      },
      "source": [
        "# Tokenizing the text - converting the words, letters into counts or numbers. \n",
        "# We dont need to explicitly remove the punctuations. we have an inbuilt option in Tokenizer for this purpose\n",
        "max_features = 4500\n",
        "tokenizer = Tokenizer(num_words = max_features, filters='!\"#$%&()*+,-./:;<=>?@[\\\\]^_`{|}~\\t\\n', lower = True, split = ' ')\n",
        "tokenizer.fit_on_texts(texts = train_data['Corpus'])\n",
        "X = tokenizer.texts_to_sequences(texts = train_data['Corpus'])"
      ],
      "execution_count": 0,
      "outputs": []
    },
    {
      "cell_type": "code",
      "metadata": {
        "id": "KfTPxmSY_VUS",
        "colab_type": "code",
        "colab": {}
      },
      "source": [
        "# now applying padding to make them even shaped.\n",
        "X = pad_sequences(sequences = X, maxlen = max_features, padding = 'pre')"
      ],
      "execution_count": 0,
      "outputs": []
    },
    {
      "cell_type": "code",
      "metadata": {
        "id": "8PQPapcb_dFQ",
        "colab_type": "code",
        "outputId": "0337c1c7-4aa9-46aa-aa28-37f062c890c2",
        "colab": {
          "base_uri": "https://localhost:8080/",
          "height": 51
        }
      },
      "source": [
        "print(X.shape)\n",
        "y = train_data['Label'].values\n",
        "print(y.shape)"
      ],
      "execution_count": 50,
      "outputs": [
        {
          "output_type": "stream",
          "text": [
            "(15359, 4500)\n",
            "(15359,)\n"
          ],
          "name": "stdout"
        }
      ]
    },
    {
      "cell_type": "code",
      "metadata": {
        "id": "ozQNuHDB_gOl",
        "colab_type": "code",
        "colab": {}
      },
      "source": [
        "# splitting the data training data for training and validation.\n",
        "X_train, X_test, y_train, y_test = train_test_split(X, y, test_size = 0.2, random_state = 101)"
      ],
      "execution_count": 0,
      "outputs": []
    },
    {
      "cell_type": "markdown",
      "metadata": {
        "id": "XAjS16Rw_pWx",
        "colab_type": "text"
      },
      "source": [
        "# Build the Model"
      ]
    },
    {
      "cell_type": "code",
      "metadata": {
        "id": "UIFeGHBX_hUn",
        "colab_type": "code",
        "outputId": "e4b807c8-a09a-4802-d9a9-40405643353d",
        "colab": {
          "base_uri": "https://localhost:8080/",
          "height": 139
        }
      },
      "source": [
        "# LSTM Neural Network\n",
        "lstm_model = Sequential(name = 'lstm_nn_model')\n",
        "lstm_model.add(layer = Embedding(input_dim = max_features, output_dim = 120, name = '1st_layer'))\n",
        "lstm_model.add(layer = LSTM(units = 120, dropout = 0.2, recurrent_dropout = 0.2, name = '2nd_layer'))\n",
        "lstm_model.add(layer = Dropout(rate = 0.5, name = '3rd_layer'))\n",
        "lstm_model.add(layer = Dense(units = 120,  activation = 'relu', name = '4th_layer'))\n",
        "lstm_model.add(layer = Dropout(rate = 0.5, name = '5th_layer'))\n",
        "lstm_model.add(layer = Dense(units = len(set(y)),  activation = 'sigmoid', name = 'output_layer'))\n",
        "# compiling the model\n",
        "lstm_model.compile(optimizer = 'adam', loss = 'sparse_categorical_crossentropy', metrics = ['accuracy'])"
      ],
      "execution_count": 52,
      "outputs": [
        {
          "output_type": "stream",
          "text": [
            "WARNING:tensorflow:From /usr/local/lib/python3.6/dist-packages/tensorflow_core/python/keras/initializers.py:119: calling RandomUniform.__init__ (from tensorflow.python.ops.init_ops) with dtype is deprecated and will be removed in a future version.\n",
            "Instructions for updating:\n",
            "Call initializer instance with the dtype argument instead of passing it to the constructor\n",
            "WARNING:tensorflow:From /usr/local/lib/python3.6/dist-packages/tensorflow_core/python/ops/resource_variable_ops.py:1630: calling BaseResourceVariable.__init__ (from tensorflow.python.ops.resource_variable_ops) with constraint is deprecated and will be removed in a future version.\n",
            "Instructions for updating:\n",
            "If using Keras pass *_constraint arguments to layers.\n"
          ],
          "name": "stdout"
        }
      ]
    },
    {
      "cell_type": "code",
      "metadata": {
        "id": "Vyfqwr4a_v6m",
        "colab_type": "code",
        "outputId": "5ace1b2c-1282-4dde-fb24-5633a5f356d9",
        "colab": {
          "base_uri": "https://localhost:8080/",
          "height": 122
        }
      },
      "source": [
        "lstm_model_fit = lstm_model.fit(X_train, y_train, epochs = 1)"
      ],
      "execution_count": 53,
      "outputs": [
        {
          "output_type": "stream",
          "text": [
            "WARNING:tensorflow:From /usr/local/lib/python3.6/dist-packages/tensorflow_core/python/ops/math_grad.py:1424: where (from tensorflow.python.ops.array_ops) is deprecated and will be removed in a future version.\n",
            "Instructions for updating:\n",
            "Use tf.where in 2.0, which has the same broadcast rule as np.where\n",
            "Train on 12287 samples\n",
            "12287/12287 [==============================] - 2832s 230ms/sample - loss: 0.2142 - acc: 0.9528\n"
          ],
          "name": "stdout"
        }
      ]
    },
    {
      "cell_type": "code",
      "metadata": {
        "id": "JWhSizEt_2v8",
        "colab_type": "code",
        "colab": {}
      },
      "source": [
        "#save the model weights\n",
        "lstm_model.save('bio_data_model_v1.h5')"
      ],
      "execution_count": 0,
      "outputs": []
    },
    {
      "cell_type": "code",
      "metadata": {
        "id": "AfbQ-ayyKQUs",
        "colab_type": "code",
        "colab": {
          "base_uri": "https://localhost:8080/",
          "height": 295
        },
        "outputId": "c5132a08-8a38-42ad-f146-a73c4c314bb0"
      },
      "source": [
        "import matplotlib.pyplot as plt\n",
        "\n",
        "loss = lstm_model_fit.history['loss']\n",
        "# val_loss = lstm_model_fit.history['val_loss']\n",
        "plt.plot(loss, label='Training loss')\n",
        "# plt.plot(epochs, val_loss, label='Validation loss')\n",
        "plt.title('Training and validation loss')\n",
        "plt.xlabel('Epochs')\n",
        "plt.ylabel('Loss')\n",
        "plt.legend()\n",
        "plt.show()"
      ],
      "execution_count": 64,
      "outputs": [
        {
          "output_type": "display_data",
          "data": {
            "image/png": "[encoded data removed]",
            "text/plain": [
              "<Figure size 432x288 with 1 Axes>"
            ]
          },
          "metadata": {
            "tags": []
          }
        }
      ]
    },
    {
      "cell_type": "markdown",
      "metadata": {
        "id": "eoe-lVbjO_f3",
        "colab_type": "text"
      },
      "source": [
        "#Prepare Test Data"
      ]
    },
    {
      "cell_type": "code",
      "metadata": {
        "id": "Qf6CZ29kK3D4",
        "colab_type": "code",
        "colab": {
          "base_uri": "https://localhost:8080/",
          "height": 34
        },
        "outputId": "5ac5a89e-7134-47d6-fce9-4f59e31d88ee"
      },
      "source": [
        "loss"
      ],
      "execution_count": 65,
      "outputs": [
        {
          "output_type": "execute_result",
          "data": {
            "text/plain": [
              "[0.21417275948999198]"
            ]
          },
          "metadata": {
            "tags": []
          },
          "execution_count": 65
        }
      ]
    },
    {
      "cell_type": "code",
      "metadata": {
        "id": "GyjrkiopPBgu",
        "colab_type": "code",
        "outputId": "c9c4d13c-b6e0-4a7d-830f-cce0bc365dc1",
        "colab": {
          "base_uri": "https://localhost:8080/",
          "height": 34
        }
      },
      "source": [
        "print(test_data.shape)"
      ],
      "execution_count": 0,
      "outputs": [
        {
          "output_type": "stream",
          "text": [
            "(1000, 2)\n"
          ],
          "name": "stdout"
        }
      ]
    },
    {
      "cell_type": "code",
      "metadata": {
        "id": "E7ARpie4Phdl",
        "colab_type": "code",
        "outputId": "94d8a9f8-5eb5-42a8-87bf-5079548d7451",
        "colab": {
          "base_uri": "https://localhost:8080/",
          "height": 102
        }
      },
      "source": [
        "#fill missing values from test\n",
        "# test_data = test_data.fillna(' ')\n",
        "# print(test_data.shape)\n",
        "# test_data.isnull().sum()"
      ],
      "execution_count": 0,
      "outputs": [
        {
          "output_type": "stream",
          "text": [
            "(5200, 3)\n"
          ],
          "name": "stdout"
        },
        {
          "output_type": "execute_result",
          "data": {
            "text/plain": [
              "title     0\n",
              "author    0\n",
              "text      0\n",
              "dtype: int64"
            ]
          },
          "metadata": {
            "tags": []
          },
          "execution_count": 32
        }
      ]
    },
    {
      "cell_type": "code",
      "metadata": {
        "id": "amejzIztPi6E",
        "colab_type": "code",
        "colab": {}
      },
      "source": [
        "# tokenize test data\n",
        "tokenizer.fit_on_texts(texts = test_data['Corpus'])\n",
        "test_text = tokenizer.texts_to_sequences(texts = test_data['Corpus'])"
      ],
      "execution_count": 0,
      "outputs": []
    },
    {
      "cell_type": "code",
      "metadata": {
        "id": "D2PL0JWQPqgX",
        "colab_type": "code",
        "colab": {}
      },
      "source": [
        "test_text = pad_sequences(sequences = test_text, maxlen = max_features, padding = 'pre')"
      ],
      "execution_count": 0,
      "outputs": []
    },
    {
      "cell_type": "code",
      "metadata": {
        "id": "4MBLU1kEP2Cn",
        "colab_type": "code",
        "colab": {}
      },
      "source": [
        "lstm_prediction = lstm_model.predict_classes(test_text)"
      ],
      "execution_count": 0,
      "outputs": []
    },
    {
      "cell_type": "code",
      "metadata": {
        "id": "PIYYih4EP6Wt",
        "colab_type": "code",
        "colab": {}
      },
      "source": [
        "prediction_outputs = pd.DataFrame({'Title':test_data.Title, 'Label':lstm_prediction})"
      ],
      "execution_count": 0,
      "outputs": []
    },
    {
      "cell_type": "code",
      "metadata": {
        "id": "kJgr9lJQQ6lg",
        "colab_type": "code",
        "outputId": "206ffb9b-5466-40d7-9a34-083f067ad913",
        "colab": {
          "base_uri": "https://localhost:8080/",
          "height": 34
        }
      },
      "source": [
        "prediction_outputs.shape"
      ],
      "execution_count": 0,
      "outputs": [
        {
          "output_type": "execute_result",
          "data": {
            "text/plain": [
              "(1000, 2)"
            ]
          },
          "metadata": {
            "tags": []
          },
          "execution_count": 60
        }
      ]
    },
    {
      "cell_type": "code",
      "metadata": {
        "id": "2jqSqoRhQ-q0",
        "colab_type": "code",
        "outputId": "84bf749c-a38b-4ca3-bf66-0d1a95f4200e",
        "colab": {
          "base_uri": "https://localhost:8080/",
          "height": 204
        }
      },
      "source": [
        "prediction_outputs.head()"
      ],
      "execution_count": 0,
      "outputs": [
        {
          "output_type": "execute_result",
          "data": {
            "text/html": [
              "<div>\n",
              "<style scoped>\n",
              "    .dataframe tbody tr th:only-of-type {\n",
              "        vertical-align: middle;\n",
              "    }\n",
              "\n",
              "    .dataframe tbody tr th {\n",
              "        vertical-align: top;\n",
              "    }\n",
              "\n",
              "    .dataframe thead th {\n",
              "        text-align: right;\n",
              "    }\n",
              "</style>\n",
              "<table border=\"1\" class=\"dataframe\">\n",
              "  <thead>\n",
              "    <tr style=\"text-align: right;\">\n",
              "      <th></th>\n",
              "      <th>Title</th>\n",
              "      <th>Label</th>\n",
              "    </tr>\n",
              "  </thead>\n",
              "  <tbody>\n",
              "    <tr>\n",
              "      <th>1</th>\n",
              "      <td>Albert Ernest Radford</td>\n",
              "      <td>0</td>\n",
              "    </tr>\n",
              "    <tr>\n",
              "      <th>2</th>\n",
              "      <td>Omar Saidou Tall</td>\n",
              "      <td>0</td>\n",
              "    </tr>\n",
              "    <tr>\n",
              "      <th>3</th>\n",
              "      <td>Paul Harteck</td>\n",
              "      <td>0</td>\n",
              "    </tr>\n",
              "    <tr>\n",
              "      <th>4</th>\n",
              "      <td>William John Tulloch</td>\n",
              "      <td>0</td>\n",
              "    </tr>\n",
              "    <tr>\n",
              "      <th>5</th>\n",
              "      <td>John Sutherland Black</td>\n",
              "      <td>0</td>\n",
              "    </tr>\n",
              "  </tbody>\n",
              "</table>\n",
              "</div>"
            ],
            "text/plain": [
              "                   Title  Label\n",
              "1  Albert Ernest Radford      0\n",
              "2       Omar Saidou Tall      0\n",
              "3           Paul Harteck      0\n",
              "4   William John Tulloch      0\n",
              "5  John Sutherland Black      0"
            ]
          },
          "metadata": {
            "tags": []
          },
          "execution_count": 61
        }
      ]
    },
    {
      "cell_type": "markdown",
      "metadata": {
        "id": "c4dllLB0Rm2Y",
        "colab_type": "text"
      },
      "source": [
        "#Check Accuracies"
      ]
    },
    {
      "cell_type": "code",
      "metadata": {
        "id": "6eKS6YLuRpQL",
        "colab_type": "code",
        "colab": {}
      },
      "source": [
        "from sklearn.metrics import accuracy_score"
      ],
      "execution_count": 0,
      "outputs": []
    },
    {
      "cell_type": "code",
      "metadata": {
        "id": "uy4O5nB3PN2d",
        "colab_type": "code",
        "colab": {}
      },
      "source": [
        "test_data['Label'] = 0"
      ],
      "execution_count": 0,
      "outputs": []
    },
    {
      "cell_type": "code",
      "metadata": {
        "id": "8lcF_MuyRqJL",
        "colab_type": "code",
        "colab": {}
      },
      "source": [
        "y_preds = list(prediction_outputs['Label'])\n",
        "y_true = list(test_data['Label'])"
      ],
      "execution_count": 0,
      "outputs": []
    },
    {
      "cell_type": "code",
      "metadata": {
        "id": "HkF2193URwmH",
        "colab_type": "code",
        "outputId": "c535b1ad-5798-431e-ae6b-2dc7ecb7d52c",
        "colab": {
          "base_uri": "https://localhost:8080/",
          "height": 34
        }
      },
      "source": [
        "accuracy_score(y_true,y_preds)"
      ],
      "execution_count": 0,
      "outputs": [
        {
          "output_type": "execute_result",
          "data": {
            "text/plain": [
              "1.0"
            ]
          },
          "metadata": {
            "tags": []
          },
          "execution_count": 73
        }
      ]
    },
    {
      "cell_type": "code",
      "metadata": {
        "id": "ksMzaTciR9II",
        "colab_type": "code",
        "outputId": "58cd16f3-e76f-466a-a952-4b7e780de9e4",
        "colab": {
          "base_uri": "https://localhost:8080/",
          "height": 204
        }
      },
      "source": [
        "validation_data.head()"
      ],
      "execution_count": 0,
      "outputs": [
        {
          "output_type": "execute_result",
          "data": {
            "text/html": [
              "<div>\n",
              "<style scoped>\n",
              "    .dataframe tbody tr th:only-of-type {\n",
              "        vertical-align: middle;\n",
              "    }\n",
              "\n",
              "    .dataframe tbody tr th {\n",
              "        vertical-align: top;\n",
              "    }\n",
              "\n",
              "    .dataframe thead th {\n",
              "        text-align: right;\n",
              "    }\n",
              "</style>\n",
              "<table border=\"1\" class=\"dataframe\">\n",
              "  <thead>\n",
              "    <tr style=\"text-align: right;\">\n",
              "      <th></th>\n",
              "      <th>Title</th>\n",
              "      <th>Corpus</th>\n",
              "      <th>Label</th>\n",
              "    </tr>\n",
              "  </thead>\n",
              "  <tbody>\n",
              "    <tr>\n",
              "      <th>1</th>\n",
              "      <td>Robert Lightfoot (priest)</td>\n",
              "      <td>Robert Henry Lightfoot ( 30 September 1883 – 2...</td>\n",
              "      <td>0</td>\n",
              "    </tr>\n",
              "    <tr>\n",
              "      <th>2</th>\n",
              "      <td>Jean Pierre Moquette</td>\n",
              "      <td>Jean Pierre Moquette ( July 5 , 1856 – Februar...</td>\n",
              "      <td>0</td>\n",
              "    </tr>\n",
              "    <tr>\n",
              "      <th>3</th>\n",
              "      <td>John Willock</td>\n",
              "      <td>John Willock ( or Willocks or Willox ) ( c. 15...</td>\n",
              "      <td>0</td>\n",
              "    </tr>\n",
              "    <tr>\n",
              "      <th>4</th>\n",
              "      <td>David Packard</td>\n",
              "      <td>David Packard ( PAK-ərd ; September 7 , 1912 –...</td>\n",
              "      <td>0</td>\n",
              "    </tr>\n",
              "    <tr>\n",
              "      <th>5</th>\n",
              "      <td>William F. Beck</td>\n",
              "      <td>William Frederick Beck ( August 28 , 1904 – Oc...</td>\n",
              "      <td>0</td>\n",
              "    </tr>\n",
              "  </tbody>\n",
              "</table>\n",
              "</div>"
            ],
            "text/plain": [
              "                       Title  ... Label\n",
              "1  Robert Lightfoot (priest)  ...     0\n",
              "2       Jean Pierre Moquette  ...     0\n",
              "3               John Willock  ...     0\n",
              "4              David Packard  ...     0\n",
              "5            William F. Beck  ...     0\n",
              "\n",
              "[5 rows x 3 columns]"
            ]
          },
          "metadata": {
            "tags": []
          },
          "execution_count": 67
        }
      ]
    },
    {
      "cell_type": "code",
      "metadata": {
        "id": "43_P7dhFPCJn",
        "colab_type": "code",
        "colab": {}
      },
      "source": [
        ""
      ],
      "execution_count": 0,
      "outputs": []
    }
  ]
}